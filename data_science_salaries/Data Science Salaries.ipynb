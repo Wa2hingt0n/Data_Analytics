{
 "cells": [
  {
   "cell_type": "markdown",
   "id": "988cd6d9",
   "metadata": {},
   "source": [
    "# AN ANALYSIS OF SALARIES PAID IN THE DATA SCIENCE FIELD BETWEEN 2020 AND 2022\n",
    "### by **Washington Obungu**"
   ]
  },
  {
   "cell_type": "markdown",
   "id": "2d038afa",
   "metadata": {},
   "source": [
    "## 1. Introduction\n",
    "This analysis will investigate the [data science job salaries dataset](https://www.kaggle.com/datasets/ruchi798/data-science-job-salaries) obtained from [Kaggle](https://www.kaggle.com/).\n",
    "\n",
    "The dataset contains information about annual salaries paid to indivduals in different data science fields in the years 2020-2022.\n",
    "\n",
    "The key areas of investigation are:\n",
    " 1. Do salaries in specific fields increase year on year?\n",
    " 2. How does salary change with experience level\n",
    " 3. Do full time employees earn more than part time and freelance workers per year?\n",
    " 4. Which job titles earn the highest and the lowest salaries\n",
    " 5. Does the employee location affect the salaries earned?\n",
    " 6. Do remote workers earn more than in-office workers?\n",
    " 7. How do salaries change with company size?"
   ]
  },
  {
   "cell_type": "code",
   "execution_count": 1,
   "id": "1b233773",
   "metadata": {},
   "outputs": [],
   "source": [
    "# Import necessary libraries\n",
    "import pandas as pd\n",
    "import numpy as np\n",
    "import matplotlib.pyplot as plt\n",
    "import seaborn as sb\n",
    "\n",
    "%matplotlib inline"
   ]
  },
  {
   "cell_type": "code",
   "execution_count": 2,
   "id": "1a8c00fc",
   "metadata": {},
   "outputs": [
    {
     "data": {
      "text/html": [
       "<div>\n",
       "<style scoped>\n",
       "    .dataframe tbody tr th:only-of-type {\n",
       "        vertical-align: middle;\n",
       "    }\n",
       "\n",
       "    .dataframe tbody tr th {\n",
       "        vertical-align: top;\n",
       "    }\n",
       "\n",
       "    .dataframe thead th {\n",
       "        text-align: right;\n",
       "    }\n",
       "</style>\n",
       "<table border=\"1\" class=\"dataframe\">\n",
       "  <thead>\n",
       "    <tr style=\"text-align: right;\">\n",
       "      <th></th>\n",
       "      <th>Unnamed: 0</th>\n",
       "      <th>work_year</th>\n",
       "      <th>experience_level</th>\n",
       "      <th>employment_type</th>\n",
       "      <th>job_title</th>\n",
       "      <th>salary</th>\n",
       "      <th>salary_currency</th>\n",
       "      <th>salary_in_usd</th>\n",
       "      <th>employee_residence</th>\n",
       "      <th>remote_ratio</th>\n",
       "      <th>company_location</th>\n",
       "      <th>company_size</th>\n",
       "    </tr>\n",
       "  </thead>\n",
       "  <tbody>\n",
       "    <tr>\n",
       "      <th>0</th>\n",
       "      <td>0</td>\n",
       "      <td>2020</td>\n",
       "      <td>MI</td>\n",
       "      <td>FT</td>\n",
       "      <td>Data Scientist</td>\n",
       "      <td>70000</td>\n",
       "      <td>EUR</td>\n",
       "      <td>79833</td>\n",
       "      <td>DE</td>\n",
       "      <td>0</td>\n",
       "      <td>DE</td>\n",
       "      <td>L</td>\n",
       "    </tr>\n",
       "    <tr>\n",
       "      <th>1</th>\n",
       "      <td>1</td>\n",
       "      <td>2020</td>\n",
       "      <td>SE</td>\n",
       "      <td>FT</td>\n",
       "      <td>Machine Learning Scientist</td>\n",
       "      <td>260000</td>\n",
       "      <td>USD</td>\n",
       "      <td>260000</td>\n",
       "      <td>JP</td>\n",
       "      <td>0</td>\n",
       "      <td>JP</td>\n",
       "      <td>S</td>\n",
       "    </tr>\n",
       "    <tr>\n",
       "      <th>2</th>\n",
       "      <td>2</td>\n",
       "      <td>2020</td>\n",
       "      <td>SE</td>\n",
       "      <td>FT</td>\n",
       "      <td>Big Data Engineer</td>\n",
       "      <td>85000</td>\n",
       "      <td>GBP</td>\n",
       "      <td>109024</td>\n",
       "      <td>GB</td>\n",
       "      <td>50</td>\n",
       "      <td>GB</td>\n",
       "      <td>M</td>\n",
       "    </tr>\n",
       "    <tr>\n",
       "      <th>3</th>\n",
       "      <td>3</td>\n",
       "      <td>2020</td>\n",
       "      <td>MI</td>\n",
       "      <td>FT</td>\n",
       "      <td>Product Data Analyst</td>\n",
       "      <td>20000</td>\n",
       "      <td>USD</td>\n",
       "      <td>20000</td>\n",
       "      <td>HN</td>\n",
       "      <td>0</td>\n",
       "      <td>HN</td>\n",
       "      <td>S</td>\n",
       "    </tr>\n",
       "    <tr>\n",
       "      <th>4</th>\n",
       "      <td>4</td>\n",
       "      <td>2020</td>\n",
       "      <td>SE</td>\n",
       "      <td>FT</td>\n",
       "      <td>Machine Learning Engineer</td>\n",
       "      <td>150000</td>\n",
       "      <td>USD</td>\n",
       "      <td>150000</td>\n",
       "      <td>US</td>\n",
       "      <td>50</td>\n",
       "      <td>US</td>\n",
       "      <td>L</td>\n",
       "    </tr>\n",
       "  </tbody>\n",
       "</table>\n",
       "</div>"
      ],
      "text/plain": [
       "   Unnamed: 0  work_year experience_level employment_type  \\\n",
       "0           0       2020               MI              FT   \n",
       "1           1       2020               SE              FT   \n",
       "2           2       2020               SE              FT   \n",
       "3           3       2020               MI              FT   \n",
       "4           4       2020               SE              FT   \n",
       "\n",
       "                    job_title  salary salary_currency  salary_in_usd  \\\n",
       "0              Data Scientist   70000             EUR          79833   \n",
       "1  Machine Learning Scientist  260000             USD         260000   \n",
       "2           Big Data Engineer   85000             GBP         109024   \n",
       "3        Product Data Analyst   20000             USD          20000   \n",
       "4   Machine Learning Engineer  150000             USD         150000   \n",
       "\n",
       "  employee_residence  remote_ratio company_location company_size  \n",
       "0                 DE             0               DE            L  \n",
       "1                 JP             0               JP            S  \n",
       "2                 GB            50               GB            M  \n",
       "3                 HN             0               HN            S  \n",
       "4                 US            50               US            L  "
      ]
     },
     "execution_count": 2,
     "metadata": {},
     "output_type": "execute_result"
    }
   ],
   "source": [
    "# Read the dataset onto a dataframe\n",
    "salaries = pd.read_csv('ds_salaries.csv')\n",
    "salaries.head()"
   ]
  },
  {
   "cell_type": "code",
   "execution_count": null,
   "id": "1a8e475b",
   "metadata": {},
   "outputs": [],
   "source": []
  },
  {
   "cell_type": "markdown",
   "id": "ef61ea41",
   "metadata": {},
   "source": [
    "## 2. Data Wrangling\n",
    "\n",
    "### 2.1 Data Assessment"
   ]
  },
  {
   "cell_type": "code",
   "execution_count": 3,
   "id": "f71bf3da",
   "metadata": {},
   "outputs": [
    {
     "name": "stdout",
     "output_type": "stream",
     "text": [
      "<class 'pandas.core.frame.DataFrame'>\n",
      "RangeIndex: 607 entries, 0 to 606\n",
      "Data columns (total 12 columns):\n",
      " #   Column              Non-Null Count  Dtype \n",
      "---  ------              --------------  ----- \n",
      " 0   Unnamed: 0          607 non-null    int64 \n",
      " 1   work_year           607 non-null    int64 \n",
      " 2   experience_level    607 non-null    object\n",
      " 3   employment_type     607 non-null    object\n",
      " 4   job_title           607 non-null    object\n",
      " 5   salary              607 non-null    int64 \n",
      " 6   salary_currency     607 non-null    object\n",
      " 7   salary_in_usd       607 non-null    int64 \n",
      " 8   employee_residence  607 non-null    object\n",
      " 9   remote_ratio        607 non-null    int64 \n",
      " 10  company_location    607 non-null    object\n",
      " 11  company_size        607 non-null    object\n",
      "dtypes: int64(5), object(7)\n",
      "memory usage: 40.4+ KB\n"
     ]
    }
   ],
   "source": [
    "salaries.info()"
   ]
  },
  {
   "cell_type": "code",
   "execution_count": 4,
   "id": "2c4c464b",
   "metadata": {},
   "outputs": [
    {
     "data": {
      "text/html": [
       "<div>\n",
       "<style scoped>\n",
       "    .dataframe tbody tr th:only-of-type {\n",
       "        vertical-align: middle;\n",
       "    }\n",
       "\n",
       "    .dataframe tbody tr th {\n",
       "        vertical-align: top;\n",
       "    }\n",
       "\n",
       "    .dataframe thead th {\n",
       "        text-align: right;\n",
       "    }\n",
       "</style>\n",
       "<table border=\"1\" class=\"dataframe\">\n",
       "  <thead>\n",
       "    <tr style=\"text-align: right;\">\n",
       "      <th></th>\n",
       "      <th>Unnamed: 0</th>\n",
       "      <th>work_year</th>\n",
       "      <th>salary</th>\n",
       "      <th>salary_in_usd</th>\n",
       "      <th>remote_ratio</th>\n",
       "    </tr>\n",
       "  </thead>\n",
       "  <tbody>\n",
       "    <tr>\n",
       "      <th>count</th>\n",
       "      <td>607.000000</td>\n",
       "      <td>607.000000</td>\n",
       "      <td>6.070000e+02</td>\n",
       "      <td>607.000000</td>\n",
       "      <td>607.00000</td>\n",
       "    </tr>\n",
       "    <tr>\n",
       "      <th>mean</th>\n",
       "      <td>303.000000</td>\n",
       "      <td>2021.405272</td>\n",
       "      <td>3.240001e+05</td>\n",
       "      <td>112297.869852</td>\n",
       "      <td>70.92257</td>\n",
       "    </tr>\n",
       "    <tr>\n",
       "      <th>std</th>\n",
       "      <td>175.370085</td>\n",
       "      <td>0.692133</td>\n",
       "      <td>1.544357e+06</td>\n",
       "      <td>70957.259411</td>\n",
       "      <td>40.70913</td>\n",
       "    </tr>\n",
       "    <tr>\n",
       "      <th>min</th>\n",
       "      <td>0.000000</td>\n",
       "      <td>2020.000000</td>\n",
       "      <td>4.000000e+03</td>\n",
       "      <td>2859.000000</td>\n",
       "      <td>0.00000</td>\n",
       "    </tr>\n",
       "    <tr>\n",
       "      <th>25%</th>\n",
       "      <td>151.500000</td>\n",
       "      <td>2021.000000</td>\n",
       "      <td>7.000000e+04</td>\n",
       "      <td>62726.000000</td>\n",
       "      <td>50.00000</td>\n",
       "    </tr>\n",
       "    <tr>\n",
       "      <th>50%</th>\n",
       "      <td>303.000000</td>\n",
       "      <td>2022.000000</td>\n",
       "      <td>1.150000e+05</td>\n",
       "      <td>101570.000000</td>\n",
       "      <td>100.00000</td>\n",
       "    </tr>\n",
       "    <tr>\n",
       "      <th>75%</th>\n",
       "      <td>454.500000</td>\n",
       "      <td>2022.000000</td>\n",
       "      <td>1.650000e+05</td>\n",
       "      <td>150000.000000</td>\n",
       "      <td>100.00000</td>\n",
       "    </tr>\n",
       "    <tr>\n",
       "      <th>max</th>\n",
       "      <td>606.000000</td>\n",
       "      <td>2022.000000</td>\n",
       "      <td>3.040000e+07</td>\n",
       "      <td>600000.000000</td>\n",
       "      <td>100.00000</td>\n",
       "    </tr>\n",
       "  </tbody>\n",
       "</table>\n",
       "</div>"
      ],
      "text/plain": [
       "       Unnamed: 0    work_year        salary  salary_in_usd  remote_ratio\n",
       "count  607.000000   607.000000  6.070000e+02     607.000000     607.00000\n",
       "mean   303.000000  2021.405272  3.240001e+05  112297.869852      70.92257\n",
       "std    175.370085     0.692133  1.544357e+06   70957.259411      40.70913\n",
       "min      0.000000  2020.000000  4.000000e+03    2859.000000       0.00000\n",
       "25%    151.500000  2021.000000  7.000000e+04   62726.000000      50.00000\n",
       "50%    303.000000  2022.000000  1.150000e+05  101570.000000     100.00000\n",
       "75%    454.500000  2022.000000  1.650000e+05  150000.000000     100.00000\n",
       "max    606.000000  2022.000000  3.040000e+07  600000.000000     100.00000"
      ]
     },
     "execution_count": 4,
     "metadata": {},
     "output_type": "execute_result"
    }
   ],
   "source": [
    "salaries.describe()"
   ]
  },
  {
   "cell_type": "code",
   "execution_count": 5,
   "id": "600e2497",
   "metadata": {},
   "outputs": [
    {
     "data": {
      "text/plain": [
       "Unnamed: 0            0\n",
       "work_year             0\n",
       "experience_level      0\n",
       "employment_type       0\n",
       "job_title             0\n",
       "salary                0\n",
       "salary_currency       0\n",
       "salary_in_usd         0\n",
       "employee_residence    0\n",
       "remote_ratio          0\n",
       "company_location      0\n",
       "company_size          0\n",
       "dtype: int64"
      ]
     },
     "execution_count": 5,
     "metadata": {},
     "output_type": "execute_result"
    }
   ],
   "source": [
    "salaries.isna().sum()"
   ]
  },
  {
   "cell_type": "code",
   "execution_count": 6,
   "id": "8c1a8815",
   "metadata": {},
   "outputs": [
    {
     "data": {
      "text/plain": [
       "0"
      ]
     },
     "execution_count": 6,
     "metadata": {},
     "output_type": "execute_result"
    }
   ],
   "source": [
    "salaries.duplicated().sum()"
   ]
  },
  {
   "cell_type": "markdown",
   "id": "42a4baec",
   "metadata": {},
   "source": [
    "The issues identified to be cleaned include:\n",
    "\n",
    "a) **Tidiness issues:**\n",
    "  - Data types of the variables employment type, company size and experience level are object instead of categorical\n",
    "  - The column 'unnamed' is redundant as there's already an index column\n",
    " \n",
    "b) **Quality Issues:**\n",
    "  - The remote ratio entries would be better understood as nominal data, with the values 'on-site', 'hybrid' and 'remote'. The variable data type should also be caegorical."
   ]
  },
  {
   "cell_type": "markdown",
   "id": "6816f5be",
   "metadata": {},
   "source": [
    "### 2.2 Data Cleaning"
   ]
  },
  {
   "cell_type": "markdown",
   "id": "e42d5728",
   "metadata": {},
   "source": [
    "#### 2.2.1 Issue 1\n",
    "Modify the entries of the 'remote ratio' column to be:\n",
    " - 0 -> on-site\n",
    " - 50 -> hybrid\n",
    " - 100 -> remote"
   ]
  },
  {
   "cell_type": "code",
   "execution_count": 7,
   "id": "2a7f0bce",
   "metadata": {},
   "outputs": [
    {
     "data": {
      "text/html": [
       "<div>\n",
       "<style scoped>\n",
       "    .dataframe tbody tr th:only-of-type {\n",
       "        vertical-align: middle;\n",
       "    }\n",
       "\n",
       "    .dataframe tbody tr th {\n",
       "        vertical-align: top;\n",
       "    }\n",
       "\n",
       "    .dataframe thead th {\n",
       "        text-align: right;\n",
       "    }\n",
       "</style>\n",
       "<table border=\"1\" class=\"dataframe\">\n",
       "  <thead>\n",
       "    <tr style=\"text-align: right;\">\n",
       "      <th></th>\n",
       "      <th>Unnamed: 0</th>\n",
       "      <th>work_year</th>\n",
       "      <th>experience_level</th>\n",
       "      <th>employment_type</th>\n",
       "      <th>job_title</th>\n",
       "      <th>salary</th>\n",
       "      <th>salary_currency</th>\n",
       "      <th>salary_in_usd</th>\n",
       "      <th>employee_residence</th>\n",
       "      <th>remote_ratio</th>\n",
       "      <th>company_location</th>\n",
       "      <th>company_size</th>\n",
       "    </tr>\n",
       "  </thead>\n",
       "  <tbody>\n",
       "    <tr>\n",
       "      <th>0</th>\n",
       "      <td>0</td>\n",
       "      <td>2020</td>\n",
       "      <td>MI</td>\n",
       "      <td>FT</td>\n",
       "      <td>Data Scientist</td>\n",
       "      <td>70000</td>\n",
       "      <td>EUR</td>\n",
       "      <td>79833</td>\n",
       "      <td>DE</td>\n",
       "      <td>on-site</td>\n",
       "      <td>DE</td>\n",
       "      <td>L</td>\n",
       "    </tr>\n",
       "    <tr>\n",
       "      <th>1</th>\n",
       "      <td>1</td>\n",
       "      <td>2020</td>\n",
       "      <td>SE</td>\n",
       "      <td>FT</td>\n",
       "      <td>Machine Learning Scientist</td>\n",
       "      <td>260000</td>\n",
       "      <td>USD</td>\n",
       "      <td>260000</td>\n",
       "      <td>JP</td>\n",
       "      <td>on-site</td>\n",
       "      <td>JP</td>\n",
       "      <td>S</td>\n",
       "    </tr>\n",
       "    <tr>\n",
       "      <th>2</th>\n",
       "      <td>2</td>\n",
       "      <td>2020</td>\n",
       "      <td>SE</td>\n",
       "      <td>FT</td>\n",
       "      <td>Big Data Engineer</td>\n",
       "      <td>85000</td>\n",
       "      <td>GBP</td>\n",
       "      <td>109024</td>\n",
       "      <td>GB</td>\n",
       "      <td>hybrid</td>\n",
       "      <td>GB</td>\n",
       "      <td>M</td>\n",
       "    </tr>\n",
       "    <tr>\n",
       "      <th>3</th>\n",
       "      <td>3</td>\n",
       "      <td>2020</td>\n",
       "      <td>MI</td>\n",
       "      <td>FT</td>\n",
       "      <td>Product Data Analyst</td>\n",
       "      <td>20000</td>\n",
       "      <td>USD</td>\n",
       "      <td>20000</td>\n",
       "      <td>HN</td>\n",
       "      <td>on-site</td>\n",
       "      <td>HN</td>\n",
       "      <td>S</td>\n",
       "    </tr>\n",
       "    <tr>\n",
       "      <th>4</th>\n",
       "      <td>4</td>\n",
       "      <td>2020</td>\n",
       "      <td>SE</td>\n",
       "      <td>FT</td>\n",
       "      <td>Machine Learning Engineer</td>\n",
       "      <td>150000</td>\n",
       "      <td>USD</td>\n",
       "      <td>150000</td>\n",
       "      <td>US</td>\n",
       "      <td>hybrid</td>\n",
       "      <td>US</td>\n",
       "      <td>L</td>\n",
       "    </tr>\n",
       "  </tbody>\n",
       "</table>\n",
       "</div>"
      ],
      "text/plain": [
       "   Unnamed: 0  work_year experience_level employment_type  \\\n",
       "0           0       2020               MI              FT   \n",
       "1           1       2020               SE              FT   \n",
       "2           2       2020               SE              FT   \n",
       "3           3       2020               MI              FT   \n",
       "4           4       2020               SE              FT   \n",
       "\n",
       "                    job_title  salary salary_currency  salary_in_usd  \\\n",
       "0              Data Scientist   70000             EUR          79833   \n",
       "1  Machine Learning Scientist  260000             USD         260000   \n",
       "2           Big Data Engineer   85000             GBP         109024   \n",
       "3        Product Data Analyst   20000             USD          20000   \n",
       "4   Machine Learning Engineer  150000             USD         150000   \n",
       "\n",
       "  employee_residence remote_ratio company_location company_size  \n",
       "0                 DE      on-site               DE            L  \n",
       "1                 JP      on-site               JP            S  \n",
       "2                 GB       hybrid               GB            M  \n",
       "3                 HN      on-site               HN            S  \n",
       "4                 US       hybrid               US            L  "
      ]
     },
     "execution_count": 7,
     "metadata": {},
     "output_type": "execute_result"
    }
   ],
   "source": [
    "salaries['remote_ratio'] = salaries['remote_ratio'].astype('str')\n",
    "\n",
    "salaries['remote_ratio'] = salaries['remote_ratio'].replace('0', 'on-site')\n",
    "salaries['remote_ratio'] = salaries['remote_ratio'].replace('50', 'hybrid')\n",
    "salaries['remote_ratio'] = salaries['remote_ratio'].replace('100', 'remote')\n",
    "salaries.head()"
   ]
  },
  {
   "cell_type": "markdown",
   "id": "35ae0b44",
   "metadata": {},
   "source": [
    "#### 2.2.2 Issue 2\n",
    "The data-types of the variables work_year, experience_level, employment_type, company_size, remote_ratio will be converted to categorical types with, experience_level, company_size and remote_ratio being ordered types"
   ]
  },
  {
   "cell_type": "code",
   "execution_count": 8,
   "id": "abe9b8d1",
   "metadata": {},
   "outputs": [
    {
     "name": "stdout",
     "output_type": "stream",
     "text": [
      "<class 'pandas.core.frame.DataFrame'>\n",
      "RangeIndex: 607 entries, 0 to 606\n",
      "Data columns (total 12 columns):\n",
      " #   Column              Non-Null Count  Dtype   \n",
      "---  ------              --------------  -----   \n",
      " 0   Unnamed: 0          607 non-null    int64   \n",
      " 1   work_year           607 non-null    category\n",
      " 2   experience_level    607 non-null    category\n",
      " 3   employment_type     607 non-null    category\n",
      " 4   job_title           607 non-null    object  \n",
      " 5   salary              607 non-null    int64   \n",
      " 6   salary_currency     607 non-null    object  \n",
      " 7   salary_in_usd       607 non-null    int64   \n",
      " 8   employee_residence  607 non-null    object  \n",
      " 9   remote_ratio        607 non-null    category\n",
      " 10  company_location    607 non-null    object  \n",
      " 11  company_size        607 non-null    category\n",
      "dtypes: category(5), int64(3), object(4)\n",
      "memory usage: 27.2+ KB\n"
     ]
    }
   ],
   "source": [
    "# Change the data types to categorical\n",
    "def categorical_dtypes(df, variable_dict):\n",
    "    \"\"\" Changes datatypes to categorical type\n",
    "    Args:\n",
    "        df: The dataframe on which column data-types are to be changed\n",
    "        variable_dict: A dictionary with the key as the name of the column, and value as the list of categories \n",
    "    \"\"\"\n",
    "    for k, v in variable_dict.items():\n",
    "        cat_type = pd.api.types.CategoricalDtype(ordered=True, categories=v)\n",
    "        df[k] = df[k].astype(cat_type)\n",
    "\n",
    "#Convert the work_year column to a string\n",
    "salaries['work_year'] = salaries['work_year'].astype('str')\n",
    "\n",
    "work_years = ['2020', '2021', '2022']\n",
    "experience_levels = ['EN', 'MI', 'SE', 'EX']\n",
    "employment_types = ['FT', 'CT', 'PT', 'FL']\n",
    "company_sizes = ['S', 'M', 'L']\n",
    "remote_ratios = ['on-site', 'hybrid', 'remote']\n",
    "cat_variables = {'work_year': work_years, \n",
    "                 'experience_level': experience_levels,\n",
    "                 'employment_type': employment_types,\n",
    "                 'company_size': company_sizes,\n",
    "                 'remote_ratio': remote_ratios}\n",
    "\n",
    "categorical_dtypes(salaries, cat_variables)\n",
    "salaries.info()"
   ]
  },
  {
   "cell_type": "code",
   "execution_count": 9,
   "id": "721eec2a",
   "metadata": {},
   "outputs": [
    {
     "data": {
      "text/html": [
       "<div>\n",
       "<style scoped>\n",
       "    .dataframe tbody tr th:only-of-type {\n",
       "        vertical-align: middle;\n",
       "    }\n",
       "\n",
       "    .dataframe tbody tr th {\n",
       "        vertical-align: top;\n",
       "    }\n",
       "\n",
       "    .dataframe thead th {\n",
       "        text-align: right;\n",
       "    }\n",
       "</style>\n",
       "<table border=\"1\" class=\"dataframe\">\n",
       "  <thead>\n",
       "    <tr style=\"text-align: right;\">\n",
       "      <th></th>\n",
       "      <th>Unnamed: 0</th>\n",
       "      <th>work_year</th>\n",
       "      <th>experience_level</th>\n",
       "      <th>employment_type</th>\n",
       "      <th>job_title</th>\n",
       "      <th>salary</th>\n",
       "      <th>salary_currency</th>\n",
       "      <th>salary_in_usd</th>\n",
       "      <th>employee_residence</th>\n",
       "      <th>remote_ratio</th>\n",
       "      <th>company_location</th>\n",
       "      <th>company_size</th>\n",
       "    </tr>\n",
       "  </thead>\n",
       "  <tbody>\n",
       "    <tr>\n",
       "      <th>0</th>\n",
       "      <td>0</td>\n",
       "      <td>2020</td>\n",
       "      <td>MI</td>\n",
       "      <td>FT</td>\n",
       "      <td>Data Scientist</td>\n",
       "      <td>70000</td>\n",
       "      <td>EUR</td>\n",
       "      <td>79833</td>\n",
       "      <td>DE</td>\n",
       "      <td>on-site</td>\n",
       "      <td>DE</td>\n",
       "      <td>L</td>\n",
       "    </tr>\n",
       "    <tr>\n",
       "      <th>1</th>\n",
       "      <td>1</td>\n",
       "      <td>2020</td>\n",
       "      <td>SE</td>\n",
       "      <td>FT</td>\n",
       "      <td>Machine Learning Scientist</td>\n",
       "      <td>260000</td>\n",
       "      <td>USD</td>\n",
       "      <td>260000</td>\n",
       "      <td>JP</td>\n",
       "      <td>on-site</td>\n",
       "      <td>JP</td>\n",
       "      <td>S</td>\n",
       "    </tr>\n",
       "    <tr>\n",
       "      <th>2</th>\n",
       "      <td>2</td>\n",
       "      <td>2020</td>\n",
       "      <td>SE</td>\n",
       "      <td>FT</td>\n",
       "      <td>Big Data Engineer</td>\n",
       "      <td>85000</td>\n",
       "      <td>GBP</td>\n",
       "      <td>109024</td>\n",
       "      <td>GB</td>\n",
       "      <td>hybrid</td>\n",
       "      <td>GB</td>\n",
       "      <td>M</td>\n",
       "    </tr>\n",
       "    <tr>\n",
       "      <th>3</th>\n",
       "      <td>3</td>\n",
       "      <td>2020</td>\n",
       "      <td>MI</td>\n",
       "      <td>FT</td>\n",
       "      <td>Product Data Analyst</td>\n",
       "      <td>20000</td>\n",
       "      <td>USD</td>\n",
       "      <td>20000</td>\n",
       "      <td>HN</td>\n",
       "      <td>on-site</td>\n",
       "      <td>HN</td>\n",
       "      <td>S</td>\n",
       "    </tr>\n",
       "    <tr>\n",
       "      <th>4</th>\n",
       "      <td>4</td>\n",
       "      <td>2020</td>\n",
       "      <td>SE</td>\n",
       "      <td>FT</td>\n",
       "      <td>Machine Learning Engineer</td>\n",
       "      <td>150000</td>\n",
       "      <td>USD</td>\n",
       "      <td>150000</td>\n",
       "      <td>US</td>\n",
       "      <td>hybrid</td>\n",
       "      <td>US</td>\n",
       "      <td>L</td>\n",
       "    </tr>\n",
       "  </tbody>\n",
       "</table>\n",
       "</div>"
      ],
      "text/plain": [
       "   Unnamed: 0 work_year experience_level employment_type  \\\n",
       "0           0      2020               MI              FT   \n",
       "1           1      2020               SE              FT   \n",
       "2           2      2020               SE              FT   \n",
       "3           3      2020               MI              FT   \n",
       "4           4      2020               SE              FT   \n",
       "\n",
       "                    job_title  salary salary_currency  salary_in_usd  \\\n",
       "0              Data Scientist   70000             EUR          79833   \n",
       "1  Machine Learning Scientist  260000             USD         260000   \n",
       "2           Big Data Engineer   85000             GBP         109024   \n",
       "3        Product Data Analyst   20000             USD          20000   \n",
       "4   Machine Learning Engineer  150000             USD         150000   \n",
       "\n",
       "  employee_residence remote_ratio company_location company_size  \n",
       "0                 DE      on-site               DE            L  \n",
       "1                 JP      on-site               JP            S  \n",
       "2                 GB       hybrid               GB            M  \n",
       "3                 HN      on-site               HN            S  \n",
       "4                 US       hybrid               US            L  "
      ]
     },
     "execution_count": 9,
     "metadata": {},
     "output_type": "execute_result"
    }
   ],
   "source": [
    "salaries.head()"
   ]
  },
  {
   "cell_type": "markdown",
   "id": "656ace37",
   "metadata": {},
   "source": [
    "#### 2.2.3 Issue 3\n",
    "Drop the column 'Unnamed'"
   ]
  },
  {
   "cell_type": "code",
   "execution_count": 10,
   "id": "4e298569",
   "metadata": {},
   "outputs": [
    {
     "data": {
      "text/plain": [
       "Index(['work_year', 'experience_level', 'employment_type', 'job_title',\n",
       "       'salary', 'salary_currency', 'salary_in_usd', 'employee_residence',\n",
       "       'remote_ratio', 'company_location', 'company_size'],\n",
       "      dtype='object')"
      ]
     },
     "execution_count": 10,
     "metadata": {},
     "output_type": "execute_result"
    }
   ],
   "source": [
    "salaries = salaries.drop(columns=['Unnamed: 0'])\n",
    "salaries.columns"
   ]
  },
  {
   "cell_type": "markdown",
   "id": "06e020cf",
   "metadata": {},
   "source": [
    "## 3. Exploratory Data Analysis"
   ]
  },
  {
   "cell_type": "markdown",
   "id": "ee1aafda",
   "metadata": {},
   "source": [
    "### 3.1 Univariate Analysis\n",
    "In this section, the distribution of each variable will be investigated."
   ]
  },
  {
   "cell_type": "markdown",
   "id": "0ef68f6e",
   "metadata": {},
   "source": [
    "####  3.1.1. `work_year`\n",
    "This section will investigate how many years are covered in the dataset as well as the distribution of the observations."
   ]
  },
  {
   "cell_type": "code",
   "execution_count": 12,
   "id": "19a2b105",
   "metadata": {},
   "outputs": [
    {
     "data": {
      "text/plain": [
       "2022    318\n",
       "2021    217\n",
       "2020     72\n",
       "Name: work_year, dtype: int64"
      ]
     },
     "execution_count": 12,
     "metadata": {},
     "output_type": "execute_result"
    }
   ],
   "source": [
    "# View how many observations are represented by each year\n",
    "salaries['work_year'].value_counts()"
   ]
  },
  {
   "cell_type": "code",
   "execution_count": 26,
   "id": "12e2f14a",
   "metadata": {},
   "outputs": [
    {
     "data": {
      "text/plain": [
       "<AxesSubplot:xlabel='work_year', ylabel='count'>"
      ]
     },
     "execution_count": 26,
     "metadata": {},
     "output_type": "execute_result"
    },
    {
     "data": {
      "image/png": "[encoded data removed]",
      "text/plain": [
       "<Figure size 360x504 with 1 Axes>"
      ]
     },
     "metadata": {
      "needs_background": "light"
     },
     "output_type": "display_data"
    }
   ],
   "source": [
    "#Plot a bar chart to view the distribution of work_year\n",
    "# Set blue as the color of the bars of the bar chart\n",
    "base_color = sb.color_palette()[0]\n",
    "\n",
    "#Plot a bar chart to view the distribution of work_year\n",
    "plt.figure(figsize=[5, 7])\n",
    "sb.countplot(data=salaries, x='work_year', color=base_color)"
   ]
  },
  {
   "cell_type": "markdown",
   "id": "8399af68",
   "metadata": {},
   "source": [
    "The bar chart shows a majority of the salaries represented in the dataset are from 2022"
   ]
  },
  {
   "cell_type": "markdown",
   "id": "b0bca6c2",
   "metadata": {},
   "source": [
    "#### 3.1.2 `experience_level`\n",
    "This section will investigate how many of each level of experience are represented in the dataset"
   ]
  },
  {
   "cell_type": "code",
   "execution_count": 13,
   "id": "ab46c2e6",
   "metadata": {},
   "outputs": [
    {
     "data": {
      "text/plain": [
       "SE    280\n",
       "MI    213\n",
       "EN     88\n",
       "EX     26\n",
       "Name: experience_level, dtype: int64"
      ]
     },
     "execution_count": 13,
     "metadata": {},
     "output_type": "execute_result"
    }
   ],
   "source": [
    "salaries['experience_level'].value_counts()"
   ]
  },
  {
   "cell_type": "code",
   "execution_count": 38,
   "id": "ef42939c",
   "metadata": {},
   "outputs": [
    {
     "data": {
      "image/png": "[encoded data removed]",
      "text/plain": [
       "<Figure size 360x504 with 1 Axes>"
      ]
     },
     "metadata": {
      "needs_background": "light"
     },
     "output_type": "display_data"
    }
   ],
   "source": [
    "def plot_countplot(data, axis, variable, title, **kwargs):\n",
    "    \"\"\" Plots a bar chart\n",
    "    Args:\n",
    "        data: The dataframe from which the bar chart will be plotted\n",
    "        axis: the axis on which the data should be plotted\n",
    "        variable: The column to plot\n",
    "        title: The title of the barchart\n",
    "    \"\"\"        \n",
    "    base_color = sb.color_palette()[0]\n",
    "    plt.figure(figsize=[5, 7])\n",
    "    if axis == 'x':\n",
    "        sb.countplot(data=data, x=variable, color=base_color)\n",
    "    elif axis == 'y':\n",
    "        sb.countplot(data=data, y=variable, color=base_color)\n",
    "    plt.title(title)\n",
    "\n",
    "\n",
    "#plt.figure(figsize=(5, 7))\n",
    "plot_countplot(salaries, 'x', 'experience_level', 'Distribution of Experience Level')\n",
    "plt.xticks([0, 1, 2, 3], labels=['Entry-level', 'Intermediate', 'Senior-level', 'Executive'], rotation=15);"
   ]
  },
  {
   "cell_type": "markdown",
   "id": "5efce3ed",
   "metadata": {},
   "source": [
    "The most common experience levels are senior and intermediate"
   ]
  },
  {
   "cell_type": "markdown",
   "id": "a1870b46",
   "metadata": {},
   "source": [
    "#### 3.1.3. `employment_type`\n",
    "The distribution of the different employment types will be investigated"
   ]
  },
  {
   "cell_type": "code",
   "execution_count": 14,
   "id": "c880812a",
   "metadata": {},
   "outputs": [
    {
     "data": {
      "text/plain": [
       "FT    588\n",
       "PT     10\n",
       "CT      5\n",
       "FL      4\n",
       "Name: employment_type, dtype: int64"
      ]
     },
     "execution_count": 14,
     "metadata": {},
     "output_type": "execute_result"
    }
   ],
   "source": [
    "salaries['employment_type'].value_counts()"
   ]
  },
  {
   "cell_type": "markdown",
   "id": "b00ed9d1",
   "metadata": {},
   "source": [
    "Most of the salaries are for full time jobs"
   ]
  },
  {
   "cell_type": "markdown",
   "id": "0010ef10",
   "metadata": {},
   "source": [
    "#### 3.1.4. `job_title`"
   ]
  },
  {
   "cell_type": "code",
   "execution_count": 15,
   "id": "5cc7e498",
   "metadata": {},
   "outputs": [
    {
     "data": {
      "text/plain": [
       "Data Scientist                              143\n",
       "Data Engineer                               132\n",
       "Data Analyst                                 97\n",
       "Machine Learning Engineer                    41\n",
       "Research Scientist                           16\n",
       "Data Science Manager                         12\n",
       "Data Architect                               11\n",
       "Big Data Engineer                             8\n",
       "Machine Learning Scientist                    8\n",
       "Principal Data Scientist                      7\n",
       "AI Scientist                                  7\n",
       "Data Science Consultant                       7\n",
       "Director of Data Science                      7\n",
       "Data Analytics Manager                        7\n",
       "ML Engineer                                   6\n",
       "Computer Vision Engineer                      6\n",
       "BI Data Analyst                               6\n",
       "Lead Data Engineer                            6\n",
       "Data Engineering Manager                      5\n",
       "Business Data Analyst                         5\n",
       "Head of Data                                  5\n",
       "Applied Data Scientist                        5\n",
       "Applied Machine Learning Scientist            4\n",
       "Head of Data Science                          4\n",
       "Analytics Engineer                            4\n",
       "Data Analytics Engineer                       4\n",
       "Machine Learning Developer                    3\n",
       "Machine Learning Infrastructure Engineer      3\n",
       "Lead Data Scientist                           3\n",
       "Computer Vision Software Engineer             3\n",
       "Lead Data Analyst                             3\n",
       "Data Science Engineer                         3\n",
       "Principal Data Engineer                       3\n",
       "Principal Data Analyst                        2\n",
       "ETL Developer                                 2\n",
       "Product Data Analyst                          2\n",
       "Director of Data Engineering                  2\n",
       "Financial Data Analyst                        2\n",
       "Cloud Data Engineer                           2\n",
       "Lead Machine Learning Engineer                1\n",
       "NLP Engineer                                  1\n",
       "Head of Machine Learning                      1\n",
       "3D Computer Vision Researcher                 1\n",
       "Data Specialist                               1\n",
       "Staff Data Scientist                          1\n",
       "Big Data Architect                            1\n",
       "Finance Data Analyst                          1\n",
       "Marketing Data Analyst                        1\n",
       "Machine Learning Manager                      1\n",
       "Data Analytics Lead                           1\n",
       "Name: job_title, dtype: int64"
      ]
     },
     "execution_count": 15,
     "metadata": {},
     "output_type": "execute_result"
    }
   ],
   "source": [
    "salaries['job_title'].value_counts()"
   ]
  },
  {
   "cell_type": "markdown",
   "id": "97df3b0f",
   "metadata": {},
   "source": [
    "There are many job titles but the most common is data scientist, data engineer and data analyst"
   ]
  },
  {
   "cell_type": "markdown",
   "id": "42c7f25a",
   "metadata": {},
   "source": [
    "#### 3.1.5. `salary_in_usd`"
   ]
  },
  {
   "cell_type": "code",
   "execution_count": 52,
   "id": "03a7feef",
   "metadata": {},
   "outputs": [
    {
     "data": {
      "text/plain": [
       "count    2.783189\n",
       "mean     5.050372\n",
       "std      4.850997\n",
       "min      3.456214\n",
       "25%      4.797448\n",
       "50%      5.006765\n",
       "75%      5.176091\n",
       "max      5.778151\n",
       "Name: salary_in_usd, dtype: float64"
      ]
     },
     "execution_count": 52,
     "metadata": {},
     "output_type": "execute_result"
    }
   ],
   "source": [
    "np.log10(salaries['salary_in_usd'].describe())"
   ]
  },
  {
   "cell_type": "code",
   "execution_count": 115,
   "id": "22db816e",
   "metadata": {},
   "outputs": [
    {
     "data": {
      "image/png": "[encoded data removed]",
      "text/plain": [
       "<Figure size 1080x576 with 1 Axes>"
      ]
     },
     "metadata": {
      "needs_background": "light"
     },
     "output_type": "display_data"
    }
   ],
   "source": [
    "salary_bins = np.arange(0, 600000 + 10000, 10000)\n",
    "plt.figure(figsize=[15, 8])\n",
    "plt.hist(data=salaries, x='salary_in_usd', bins=salary_bins);"
   ]
  },
  {
   "cell_type": "code",
   "execution_count": 93,
   "id": "34aa8d47",
   "metadata": {},
   "outputs": [
    {
     "data": {
      "image/png": "[encoded data removed]",
      "text/plain": [
       "<Figure size 1080x576 with 1 Axes>"
      ]
     },
     "metadata": {
      "needs_background": "light"
     },
     "output_type": "display_data"
    }
   ],
   "source": [
    "# Plot a histogram of the sarary_in_usd variable distribution with a log transform on the x-axis\n",
    "salary_bins = np.arange(0, 600000 + 10000, 10000)\n",
    "salary_bins_log = 10 ** np.arange(3.4, 5.8 + 0.05, 0.05)\n",
    "salary_xticks = [2000, 3000, 5000, 7000, 10000, 15000, 25000, 40000, 60000, 90000, 130000, 200000, 300000, 450000, 700000]\n",
    "salary_tick_labels = ['2K', '3K', '5K', '7K', '10K', '15K', '25K', '40K', '60K', '90K', '130K', '200K', '300K', '450K', '700K']\n",
    "\n",
    "plt.figure(figsize=[15, 8])\n",
    "plt.hist(data=salaries, x='salary_in_usd', bins=salary_bins_log)\n",
    "plt.xscale('log');\n",
    "plt.xticks(salary_xticks, salary_tick_labels);"
   ]
  },
  {
   "cell_type": "markdown",
   "id": "80236e90",
   "metadata": {},
   "source": [
    "The distribution after a log transform appears to be left skewed and unimodal. A majority of salaries lie in the range USD 60K-150K."
   ]
  },
  {
   "cell_type": "markdown",
   "id": "bc7bc1df",
   "metadata": {},
   "source": [
    "#### 3.1.6. `employee_residence`"
   ]
  },
  {
   "cell_type": "code",
   "execution_count": 104,
   "id": "8dcd7156",
   "metadata": {
    "scrolled": true
   },
   "outputs": [
    {
     "name": "stdout",
     "output_type": "stream",
     "text": [
      "57\n",
      "['DE' 'JP' 'GB' 'HN' 'US' 'HU' 'NZ' 'FR' 'IN' 'PK' 'PL' 'PT' 'CN' 'GR'\n",
      " 'AE' 'NL' 'MX' 'CA' 'AT' 'NG' 'PH' 'ES' 'DK' 'RU' 'IT' 'HR' 'BG' 'SG'\n",
      " 'BR' 'IQ' 'VN' 'BE' 'UA' 'MT' 'CL' 'RO' 'IR' 'CO' 'MD' 'KE' 'SI' 'HK'\n",
      " 'TR' 'RS' 'PR' 'LU' 'JE' 'CZ' 'AR' 'DZ' 'TN' 'MY' 'EE' 'AU' 'BO' 'IE'\n",
      " 'CH']\n"
     ]
    },
    {
     "data": {
      "text/plain": [
       "US    332\n",
       "GB     44\n",
       "IN     30\n",
       "CA     29\n",
       "DE     25\n",
       "FR     18\n",
       "ES     15\n",
       "GR     13\n",
       "JP      7\n",
       "PT      6\n",
       "BR      6\n",
       "PK      6\n",
       "NL      5\n",
       "PL      4\n",
       "IT      4\n",
       "RU      4\n",
       "AE      3\n",
       "AT      3\n",
       "VN      3\n",
       "TR      3\n",
       "AU      3\n",
       "RO      2\n",
       "BE      2\n",
       "SG      2\n",
       "SI      2\n",
       "DK      2\n",
       "HU      2\n",
       "NG      2\n",
       "MX      2\n",
       "BO      1\n",
       "MY      1\n",
       "TN      1\n",
       "IE      1\n",
       "DZ      1\n",
       "AR      1\n",
       "CZ      1\n",
       "JE      1\n",
       "LU      1\n",
       "PR      1\n",
       "RS      1\n",
       "EE      1\n",
       "CL      1\n",
       "HK      1\n",
       "KE      1\n",
       "MD      1\n",
       "CO      1\n",
       "IR      1\n",
       "CN      1\n",
       "MT      1\n",
       "UA      1\n",
       "IQ      1\n",
       "HN      1\n",
       "BG      1\n",
       "HR      1\n",
       "PH      1\n",
       "NZ      1\n",
       "CH      1\n",
       "Name: employee_residence, dtype: int64"
      ]
     },
     "execution_count": 104,
     "metadata": {},
     "output_type": "execute_result"
    }
   ],
   "source": [
    "print(salaries['employee_residence'].nunique())\n",
    "print(salaries['employee_residence'].unique())\n",
    "salaries['employee_residence'].value_counts()"
   ]
  },
  {
   "cell_type": "markdown",
   "id": "c14f8109",
   "metadata": {},
   "source": [
    "There are 57 unique countries of residence in the dataset, including 2 from Nigeria and 1 from Kenya. A majority of salaries are from residents of the USA."
   ]
  },
  {
   "cell_type": "markdown",
   "id": "05ab635a",
   "metadata": {},
   "source": [
    "#### 3.1.7. `remote_ratio`"
   ]
  },
  {
   "cell_type": "code",
   "execution_count": 20,
   "id": "e93e9b90",
   "metadata": {},
   "outputs": [
    {
     "data": {
      "text/plain": [
       "remote     381\n",
       "on-site    127\n",
       "hybrid      99\n",
       "Name: remote_ratio, dtype: int64"
      ]
     },
     "execution_count": 20,
     "metadata": {},
     "output_type": "execute_result"
    }
   ],
   "source": [
    "salaries['remote_ratio'].value_counts()"
   ]
  },
  {
   "cell_type": "code",
   "execution_count": 106,
   "id": "b5d7ef77",
   "metadata": {},
   "outputs": [
    {
     "data": {
      "image/png": "[encoded data removed]",
      "text/plain": [
       "<Figure size 360x504 with 1 Axes>"
      ]
     },
     "metadata": {
      "needs_background": "light"
     },
     "output_type": "display_data"
    }
   ],
   "source": [
    "plot_countplot(salaries, 'x', 'remote_ratio', 'Distribution of Remote Ratio')"
   ]
  },
  {
   "cell_type": "markdown",
   "id": "30b0c9a0",
   "metadata": {},
   "source": [
    "Majority of the salaries involve people working remotely."
   ]
  },
  {
   "cell_type": "markdown",
   "id": "93c03c40",
   "metadata": {},
   "source": [
    "#### 3.1.8. `company_location`"
   ]
  },
  {
   "cell_type": "code",
   "execution_count": 109,
   "id": "8de7bbac",
   "metadata": {},
   "outputs": [
    {
     "name": "stdout",
     "output_type": "stream",
     "text": [
      "50\n"
     ]
    },
    {
     "data": {
      "text/plain": [
       "US    355\n",
       "GB     47\n",
       "CA     30\n",
       "DE     28\n",
       "IN     24\n",
       "Name: company_location, dtype: int64"
      ]
     },
     "execution_count": 109,
     "metadata": {},
     "output_type": "execute_result"
    }
   ],
   "source": [
    "print(salaries['company_location'].nunique())\n",
    "salaries['company_location'].value_counts().head()"
   ]
  },
  {
   "cell_type": "markdown",
   "id": "7a7360c8",
   "metadata": {},
   "source": [
    "The companies in the dataset are located in 50 different countries, with a majority of them in the USA."
   ]
  },
  {
   "cell_type": "markdown",
   "id": "2f673f14",
   "metadata": {},
   "source": [
    "#### 3.1.9. `company_size`"
   ]
  },
  {
   "cell_type": "code",
   "execution_count": 19,
   "id": "10ed5a55",
   "metadata": {},
   "outputs": [
    {
     "data": {
      "text/plain": [
       "M    326\n",
       "L    198\n",
       "S     83\n",
       "Name: company_size, dtype: int64"
      ]
     },
     "execution_count": 19,
     "metadata": {},
     "output_type": "execute_result"
    }
   ],
   "source": [
    "salaries['company_size'].value_counts()"
   ]
  },
  {
   "cell_type": "code",
   "execution_count": 113,
   "id": "216945ca",
   "metadata": {},
   "outputs": [
    {
     "data": {
      "image/png": "[encoded data removed]",
      "text/plain": [
       "<Figure size 360x504 with 1 Axes>"
      ]
     },
     "metadata": {
      "needs_background": "light"
     },
     "output_type": "display_data"
    }
   ],
   "source": [
    "plot_countplot(salaries, 'x', 'company_size', 'Distribution of Company Size')\n",
    "plt.xticks([0, 1, 2], ['Small', 'Medium', 'Large']);"
   ]
  },
  {
   "cell_type": "markdown",
   "id": "705bb261",
   "metadata": {},
   "source": [
    "Majority of the companies are medium sized."
   ]
  },
  {
   "cell_type": "markdown",
   "id": "03a3b927",
   "metadata": {},
   "source": [
    "### 3.2. Bivariate Analysis\n",
    "This section will begin by investigating the relationship between the main variable of interest, the salary in USD, and the other categorical variables in the dataset."
   ]
  },
  {
   "cell_type": "markdown",
   "id": "3ee7552c",
   "metadata": {},
   "source": [
    "#### 3.2.1. `salary_in_usd` Vs `work_year`"
   ]
  },
  {
   "cell_type": "code",
   "execution_count": 129,
   "id": "766f2e18",
   "metadata": {},
   "outputs": [
    {
     "name": "stdout",
     "output_type": "stream",
     "text": [
      "2020 average salary: 95813.0\n",
      "2021 average salary: 99853.79262672811\n",
      "2022 average salary: 124522.00628930818\n"
     ]
    }
   ],
   "source": [
    "print('2020 average salary: {}'.format(salaries.query('work_year == \"2020\"')['salary_in_usd'].mean()))\n",
    "print('2021 average salary: {}'.format(salaries.query('work_year == \"2021\"')['salary_in_usd'].mean()))\n",
    "print('2022 average salary: {}'.format(salaries.query('work_year == \"2022\"')['salary_in_usd'].mean()))"
   ]
  },
  {
   "cell_type": "code",
   "execution_count": 156,
   "id": "572b7043",
   "metadata": {},
   "outputs": [
    {
     "data": {
      "image/png": "[encoded data removed]",
      "text/plain": [
       "<Figure size 720x576 with 1 Axes>"
      ]
     },
     "metadata": {
      "needs_background": "light"
     },
     "output_type": "display_data"
    }
   ],
   "source": [
    "base_color = sb.color_palette()[0]\n",
    "\n",
    "plt.figure(figsize=[10, 8])\n",
    "sb.boxplot(data=salaries, x='work_year', y='salary_in_usd', color=base_color)\n",
    "plt.yticks(salary_yticks, [y for y in salary_yticks]);"
   ]
  },
  {
   "cell_type": "markdown",
   "id": "27eb553c",
   "metadata": {},
   "source": [
    "It appears there was a slight increase in median salary each year."
   ]
  },
  {
   "cell_type": "markdown",
   "id": "544d4464",
   "metadata": {},
   "source": [
    "#### 3.2.2. `salary_in_usd` Vs `employment_type`"
   ]
  },
  {
   "cell_type": "code",
   "execution_count": 138,
   "id": "91851075",
   "metadata": {},
   "outputs": [
    {
     "name": "stdout",
     "output_type": "stream",
     "text": [
      "Full Time average salary: 113468.0731292517\n",
      "Contract average salary: 184575.0\n",
      "Part Time average salary: 33070.5\n",
      "Freelance average salary: 48000.0\n"
     ]
    }
   ],
   "source": [
    "emplyment_type_list = ['FT', 'CT', 'PT', 'FL']\n",
    "#for t in emplyment_type_list:\n",
    "    #print(t)\n",
    "    #print('{} average salary: {}'.format(t, salaries.query('employment_type == \"{}\".format(t)')['salary_in_usd'].mean()))\n",
    "    \n",
    "print('Full Time average salary: {}'.format(salaries.query('employment_type == \"FT\"')['salary_in_usd'].mean()))\n",
    "print('Contract average salary: {}'.format(salaries.query('employment_type == \"CT\"')['salary_in_usd'].mean()))\n",
    "print('Part Time average salary: {}'.format(salaries.query('employment_type == \"PT\"')['salary_in_usd'].mean()))\n",
    "print('Freelance average salary: {}'.format(salaries.query('employment_type == \"FL\"')['salary_in_usd'].mean()))"
   ]
  },
  {
   "cell_type": "code",
   "execution_count": 155,
   "id": "a645de26",
   "metadata": {},
   "outputs": [
    {
     "data": {
      "image/png": "[encoded data removed]",
      "text/plain": [
       "<Figure size 576x504 with 1 Axes>"
      ]
     },
     "metadata": {
      "needs_background": "light"
     },
     "output_type": "display_data"
    }
   ],
   "source": [
    "salary_yticks = np.arange(0, 600000 + 50000, 50000)\n",
    "plt.figure(figsize=[8, 7])\n",
    "sb.boxplot(data=salaries, x='employment_type', y='salary_in_usd', color=base_color)\n",
    "plt.yticks(salary_yticks, [y for y in salary_yticks])\n",
    "plt.xticks([0, 1, 2, 3], ['Full Time', 'Contract', 'Part Time', 'Freelance']);"
   ]
  },
  {
   "cell_type": "markdown",
   "id": "87f32041",
   "metadata": {},
   "source": [
    "#### 3.2.3 `salary_in_usd` Vs `experience_level`"
   ]
  },
  {
   "cell_type": "code",
   "execution_count": 161,
   "id": "1b9e7990",
   "metadata": {},
   "outputs": [
    {
     "data": {
      "image/png": "[encoded data removed]",
      "text/plain": [
       "<Figure size 576x504 with 1 Axes>"
      ]
     },
     "metadata": {
      "needs_background": "light"
     },
     "output_type": "display_data"
    }
   ],
   "source": [
    "salary_yticks = np.arange(0, 600000 + 50000, 50000)\n",
    "plt.figure(figsize=[8, 7])\n",
    "sb.boxplot(data=salaries, x='experience_level', y='salary_in_usd', color=base_color)\n",
    "plt.yticks(salary_yticks, [y for y in salary_yticks])\n",
    "plt.xticks([0, 1, 2, 3], ['Entry-level', 'Intermediate-level', 'Senior-level', 'Executive-level'], rotation=15);"
   ]
  },
  {
   "cell_type": "markdown",
   "id": "c57107d1",
   "metadata": {},
   "source": [
    "It appears the median salary increases with an increase in experience level"
   ]
  },
  {
   "cell_type": "markdown",
   "id": "a7abb7a7",
   "metadata": {},
   "source": [
    "#### 3.2.4 `salary_in_usd` Vs `remote_ratio`"
   ]
  },
  {
   "cell_type": "code",
   "execution_count": 168,
   "id": "bed7fdd3",
   "metadata": {},
   "outputs": [
    {
     "data": {
      "image/png": "[encoded data removed]",
      "text/plain": [
       "<Figure size 576x504 with 1 Axes>"
      ]
     },
     "metadata": {
      "needs_background": "light"
     },
     "output_type": "display_data"
    }
   ],
   "source": [
    "salary_yticks = np.arange(0, 600000 + 50000, 50000)\n",
    "plt.figure(figsize=[8, 7])\n",
    "sb.boxplot(data=salaries, x='remote_ratio', y='salary_in_usd', color=base_color)\n",
    "plt.yticks(salary_yticks, [y for y in salary_yticks])\n",
    "plt.xticks([0, 1, 2], ['On-site', 'Hybrid', 'Remote']);"
   ]
  },
  {
   "cell_type": "markdown",
   "id": "c161dc74",
   "metadata": {},
   "source": [
    "It appears the median, maximum and minimum salaries of remote employees is slightly higher than that of on-site employees. The maximum and median salary of the hybrid employees appears to be lower than that of remote and on-site employees."
   ]
  },
  {
   "cell_type": "code",
   "execution_count": 21,
   "id": "902e6648",
   "metadata": {},
   "outputs": [
    {
     "data": {
      "text/plain": [
       "Index(['Data Scientist', 'Data Engineer', 'Data Analyst',\n",
       "       'Machine Learning Engineer', 'Research Scientist',\n",
       "       'Data Science Manager', 'Data Architect', 'Big Data Engineer',\n",
       "       'Machine Learning Scientist', 'Principal Data Scientist',\n",
       "       'AI Scientist', 'Data Science Consultant', 'Director of Data Science',\n",
       "       'Data Analytics Manager', 'ML Engineer', 'Computer Vision Engineer',\n",
       "       'BI Data Analyst', 'Lead Data Engineer', 'Data Engineering Manager',\n",
       "       'Business Data Analyst', 'Head of Data', 'Applied Data Scientist',\n",
       "       'Applied Machine Learning Scientist', 'Head of Data Science',\n",
       "       'Analytics Engineer', 'Data Analytics Engineer',\n",
       "       'Machine Learning Developer',\n",
       "       'Machine Learning Infrastructure Engineer', 'Lead Data Scientist',\n",
       "       'Computer Vision Software Engineer', 'Lead Data Analyst',\n",
       "       'Data Science Engineer', 'Principal Data Engineer',\n",
       "       'Principal Data Analyst', 'ETL Developer', 'Product Data Analyst',\n",
       "       'Director of Data Engineering', 'Financial Data Analyst',\n",
       "       'Cloud Data Engineer', 'Lead Machine Learning Engineer', 'NLP Engineer',\n",
       "       'Head of Machine Learning', '3D Computer Vision Researcher',\n",
       "       'Data Specialist', 'Staff Data Scientist', 'Big Data Architect',\n",
       "       'Finance Data Analyst', 'Marketing Data Analyst',\n",
       "       'Machine Learning Manager', 'Data Analytics Lead'],\n",
       "      dtype='object')"
      ]
     },
     "execution_count": 21,
     "metadata": {},
     "output_type": "execute_result"
    }
   ],
   "source": [
    "job_titles = salaries['job_title'].value_counts().index\n",
    "job_titles"
   ]
  },
  {
   "cell_type": "code",
   "execution_count": 22,
   "id": "3a12b86d",
   "metadata": {},
   "outputs": [
    {
     "data": {
      "text/html": [
       "<div>\n",
       "<style scoped>\n",
       "    .dataframe tbody tr th:only-of-type {\n",
       "        vertical-align: middle;\n",
       "    }\n",
       "\n",
       "    .dataframe tbody tr th {\n",
       "        vertical-align: top;\n",
       "    }\n",
       "\n",
       "    .dataframe thead th {\n",
       "        text-align: right;\n",
       "    }\n",
       "</style>\n",
       "<table border=\"1\" class=\"dataframe\">\n",
       "  <thead>\n",
       "    <tr style=\"text-align: right;\">\n",
       "      <th></th>\n",
       "      <th>work_year</th>\n",
       "      <th>experience_level</th>\n",
       "      <th>employment_type</th>\n",
       "      <th>job_title</th>\n",
       "      <th>salary</th>\n",
       "      <th>salary_currency</th>\n",
       "      <th>salary_in_usd</th>\n",
       "      <th>employee_residence</th>\n",
       "      <th>remote_ratio</th>\n",
       "      <th>company_location</th>\n",
       "      <th>company_size</th>\n",
       "    </tr>\n",
       "  </thead>\n",
       "  <tbody>\n",
       "    <tr>\n",
       "      <th>5</th>\n",
       "      <td>2020</td>\n",
       "      <td>EN</td>\n",
       "      <td>FT</td>\n",
       "      <td>Data Analyst</td>\n",
       "      <td>72000</td>\n",
       "      <td>USD</td>\n",
       "      <td>72000</td>\n",
       "      <td>US</td>\n",
       "      <td>remote</td>\n",
       "      <td>US</td>\n",
       "      <td>L</td>\n",
       "    </tr>\n",
       "    <tr>\n",
       "      <th>38</th>\n",
       "      <td>2020</td>\n",
       "      <td>EN</td>\n",
       "      <td>FT</td>\n",
       "      <td>Data Analyst</td>\n",
       "      <td>10000</td>\n",
       "      <td>USD</td>\n",
       "      <td>10000</td>\n",
       "      <td>NG</td>\n",
       "      <td>remote</td>\n",
       "      <td>NG</td>\n",
       "      <td>S</td>\n",
       "    </tr>\n",
       "    <tr>\n",
       "      <th>50</th>\n",
       "      <td>2020</td>\n",
       "      <td>EN</td>\n",
       "      <td>FT</td>\n",
       "      <td>Data Analyst</td>\n",
       "      <td>450000</td>\n",
       "      <td>INR</td>\n",
       "      <td>6072</td>\n",
       "      <td>IN</td>\n",
       "      <td>on-site</td>\n",
       "      <td>IN</td>\n",
       "      <td>S</td>\n",
       "    </tr>\n",
       "    <tr>\n",
       "      <th>51</th>\n",
       "      <td>2020</td>\n",
       "      <td>EN</td>\n",
       "      <td>FT</td>\n",
       "      <td>Data Analyst</td>\n",
       "      <td>91000</td>\n",
       "      <td>USD</td>\n",
       "      <td>91000</td>\n",
       "      <td>US</td>\n",
       "      <td>remote</td>\n",
       "      <td>US</td>\n",
       "      <td>L</td>\n",
       "    </tr>\n",
       "    <tr>\n",
       "      <th>79</th>\n",
       "      <td>2021</td>\n",
       "      <td>EN</td>\n",
       "      <td>FT</td>\n",
       "      <td>Data Analyst</td>\n",
       "      <td>80000</td>\n",
       "      <td>USD</td>\n",
       "      <td>80000</td>\n",
       "      <td>US</td>\n",
       "      <td>remote</td>\n",
       "      <td>US</td>\n",
       "      <td>M</td>\n",
       "    </tr>\n",
       "    <tr>\n",
       "      <th>86</th>\n",
       "      <td>2021</td>\n",
       "      <td>EN</td>\n",
       "      <td>FT</td>\n",
       "      <td>Data Analyst</td>\n",
       "      <td>50000</td>\n",
       "      <td>EUR</td>\n",
       "      <td>59102</td>\n",
       "      <td>FR</td>\n",
       "      <td>hybrid</td>\n",
       "      <td>FR</td>\n",
       "      <td>M</td>\n",
       "    </tr>\n",
       "    <tr>\n",
       "      <th>118</th>\n",
       "      <td>2021</td>\n",
       "      <td>EN</td>\n",
       "      <td>FT</td>\n",
       "      <td>Data Analyst</td>\n",
       "      <td>90000</td>\n",
       "      <td>USD</td>\n",
       "      <td>90000</td>\n",
       "      <td>US</td>\n",
       "      <td>remote</td>\n",
       "      <td>US</td>\n",
       "      <td>S</td>\n",
       "    </tr>\n",
       "    <tr>\n",
       "      <th>122</th>\n",
       "      <td>2021</td>\n",
       "      <td>EN</td>\n",
       "      <td>FT</td>\n",
       "      <td>Data Analyst</td>\n",
       "      <td>50000</td>\n",
       "      <td>USD</td>\n",
       "      <td>50000</td>\n",
       "      <td>US</td>\n",
       "      <td>remote</td>\n",
       "      <td>US</td>\n",
       "      <td>M</td>\n",
       "    </tr>\n",
       "    <tr>\n",
       "      <th>124</th>\n",
       "      <td>2021</td>\n",
       "      <td>EN</td>\n",
       "      <td>PT</td>\n",
       "      <td>Data Analyst</td>\n",
       "      <td>8760</td>\n",
       "      <td>EUR</td>\n",
       "      <td>10354</td>\n",
       "      <td>ES</td>\n",
       "      <td>hybrid</td>\n",
       "      <td>ES</td>\n",
       "      <td>M</td>\n",
       "    </tr>\n",
       "    <tr>\n",
       "      <th>172</th>\n",
       "      <td>2021</td>\n",
       "      <td>EN</td>\n",
       "      <td>FT</td>\n",
       "      <td>Data Analyst</td>\n",
       "      <td>60000</td>\n",
       "      <td>USD</td>\n",
       "      <td>60000</td>\n",
       "      <td>US</td>\n",
       "      <td>remote</td>\n",
       "      <td>US</td>\n",
       "      <td>S</td>\n",
       "    </tr>\n",
       "    <tr>\n",
       "      <th>600</th>\n",
       "      <td>2022</td>\n",
       "      <td>EN</td>\n",
       "      <td>FT</td>\n",
       "      <td>Data Analyst</td>\n",
       "      <td>67000</td>\n",
       "      <td>USD</td>\n",
       "      <td>67000</td>\n",
       "      <td>CA</td>\n",
       "      <td>on-site</td>\n",
       "      <td>CA</td>\n",
       "      <td>M</td>\n",
       "    </tr>\n",
       "    <tr>\n",
       "      <th>601</th>\n",
       "      <td>2022</td>\n",
       "      <td>EN</td>\n",
       "      <td>FT</td>\n",
       "      <td>Data Analyst</td>\n",
       "      <td>52000</td>\n",
       "      <td>USD</td>\n",
       "      <td>52000</td>\n",
       "      <td>CA</td>\n",
       "      <td>on-site</td>\n",
       "      <td>CA</td>\n",
       "      <td>M</td>\n",
       "    </tr>\n",
       "  </tbody>\n",
       "</table>\n",
       "</div>"
      ],
      "text/plain": [
       "    work_year experience_level employment_type     job_title  salary  \\\n",
       "5        2020               EN              FT  Data Analyst   72000   \n",
       "38       2020               EN              FT  Data Analyst   10000   \n",
       "50       2020               EN              FT  Data Analyst  450000   \n",
       "51       2020               EN              FT  Data Analyst   91000   \n",
       "79       2021               EN              FT  Data Analyst   80000   \n",
       "86       2021               EN              FT  Data Analyst   50000   \n",
       "118      2021               EN              FT  Data Analyst   90000   \n",
       "122      2021               EN              FT  Data Analyst   50000   \n",
       "124      2021               EN              PT  Data Analyst    8760   \n",
       "172      2021               EN              FT  Data Analyst   60000   \n",
       "600      2022               EN              FT  Data Analyst   67000   \n",
       "601      2022               EN              FT  Data Analyst   52000   \n",
       "\n",
       "    salary_currency  salary_in_usd employee_residence remote_ratio  \\\n",
       "5               USD          72000                 US       remote   \n",
       "38              USD          10000                 NG       remote   \n",
       "50              INR           6072                 IN      on-site   \n",
       "51              USD          91000                 US       remote   \n",
       "79              USD          80000                 US       remote   \n",
       "86              EUR          59102                 FR       hybrid   \n",
       "118             USD          90000                 US       remote   \n",
       "122             USD          50000                 US       remote   \n",
       "124             EUR          10354                 ES       hybrid   \n",
       "172             USD          60000                 US       remote   \n",
       "600             USD          67000                 CA      on-site   \n",
       "601             USD          52000                 CA      on-site   \n",
       "\n",
       "    company_location company_size  \n",
       "5                 US            L  \n",
       "38                NG            S  \n",
       "50                IN            S  \n",
       "51                US            L  \n",
       "79                US            M  \n",
       "86                FR            M  \n",
       "118               US            S  \n",
       "122               US            M  \n",
       "124               ES            M  \n",
       "172               US            S  \n",
       "600               CA            M  \n",
       "601               CA            M  "
      ]
     },
     "execution_count": 22,
     "metadata": {},
     "output_type": "execute_result"
    }
   ],
   "source": [
    "da_salaries = salaries.query('job_title == \"Data Analyst\" and experience_level == \"EN\"')\n",
    "#da_salaries.query('experience_level == \"EN\"')\n",
    "da_salaries"
   ]
  },
  {
   "cell_type": "code",
   "execution_count": 23,
   "id": "62a3f9e1",
   "metadata": {},
   "outputs": [
    {
     "data": {
      "text/plain": [
       "remote     381\n",
       "on-site    127\n",
       "hybrid      99\n",
       "Name: remote_ratio, dtype: int64"
      ]
     },
     "execution_count": 23,
     "metadata": {},
     "output_type": "execute_result"
    }
   ],
   "source": [
    "salaries['remote_ratio'].value_counts()"
   ]
  },
  {
   "cell_type": "code",
   "execution_count": 97,
   "id": "009d7157",
   "metadata": {},
   "outputs": [
    {
     "data": {
      "text/html": [
       "<div>\n",
       "<style scoped>\n",
       "    .dataframe tbody tr th:only-of-type {\n",
       "        vertical-align: middle;\n",
       "    }\n",
       "\n",
       "    .dataframe tbody tr th {\n",
       "        vertical-align: top;\n",
       "    }\n",
       "\n",
       "    .dataframe thead th {\n",
       "        text-align: right;\n",
       "    }\n",
       "</style>\n",
       "<table border=\"1\" class=\"dataframe\">\n",
       "  <thead>\n",
       "    <tr style=\"text-align: right;\">\n",
       "      <th></th>\n",
       "      <th>work_year</th>\n",
       "      <th>experience_level</th>\n",
       "      <th>employment_type</th>\n",
       "      <th>job_title</th>\n",
       "      <th>salary</th>\n",
       "      <th>salary_currency</th>\n",
       "      <th>salary_in_usd</th>\n",
       "      <th>employee_residence</th>\n",
       "      <th>remote_ratio</th>\n",
       "      <th>company_location</th>\n",
       "      <th>company_size</th>\n",
       "    </tr>\n",
       "  </thead>\n",
       "  <tbody>\n",
       "    <tr>\n",
       "      <th>38</th>\n",
       "      <td>2020</td>\n",
       "      <td>EN</td>\n",
       "      <td>FT</td>\n",
       "      <td>Data Analyst</td>\n",
       "      <td>10000</td>\n",
       "      <td>USD</td>\n",
       "      <td>10000</td>\n",
       "      <td>NG</td>\n",
       "      <td>remote</td>\n",
       "      <td>NG</td>\n",
       "      <td>S</td>\n",
       "    </tr>\n",
       "    <tr>\n",
       "      <th>116</th>\n",
       "      <td>2021</td>\n",
       "      <td>MI</td>\n",
       "      <td>FT</td>\n",
       "      <td>Data Scientist</td>\n",
       "      <td>50000</td>\n",
       "      <td>USD</td>\n",
       "      <td>50000</td>\n",
       "      <td>NG</td>\n",
       "      <td>remote</td>\n",
       "      <td>NG</td>\n",
       "      <td>L</td>\n",
       "    </tr>\n",
       "  </tbody>\n",
       "</table>\n",
       "</div>"
      ],
      "text/plain": [
       "    work_year experience_level employment_type       job_title  salary  \\\n",
       "38       2020               EN              FT    Data Analyst   10000   \n",
       "116      2021               MI              FT  Data Scientist   50000   \n",
       "\n",
       "    salary_currency  salary_in_usd employee_residence remote_ratio  \\\n",
       "38              USD          10000                 NG       remote   \n",
       "116             USD          50000                 NG       remote   \n",
       "\n",
       "    company_location company_size  \n",
       "38                NG            S  \n",
       "116               NG            L  "
      ]
     },
     "execution_count": 97,
     "metadata": {},
     "output_type": "execute_result"
    }
   ],
   "source": [
    "salaries.query('employee_residence == \"NG\"')"
   ]
  },
  {
   "cell_type": "code",
   "execution_count": 169,
   "id": "9baf5ec3",
   "metadata": {},
   "outputs": [
    {
     "data": {
      "text/html": [
       "<div>\n",
       "<style scoped>\n",
       "    .dataframe tbody tr th:only-of-type {\n",
       "        vertical-align: middle;\n",
       "    }\n",
       "\n",
       "    .dataframe tbody tr th {\n",
       "        vertical-align: top;\n",
       "    }\n",
       "\n",
       "    .dataframe thead th {\n",
       "        text-align: right;\n",
       "    }\n",
       "</style>\n",
       "<table border=\"1\" class=\"dataframe\">\n",
       "  <thead>\n",
       "    <tr style=\"text-align: right;\">\n",
       "      <th></th>\n",
       "      <th>work_year</th>\n",
       "      <th>experience_level</th>\n",
       "      <th>employment_type</th>\n",
       "      <th>job_title</th>\n",
       "      <th>salary</th>\n",
       "      <th>salary_currency</th>\n",
       "      <th>salary_in_usd</th>\n",
       "      <th>employee_residence</th>\n",
       "      <th>remote_ratio</th>\n",
       "      <th>company_location</th>\n",
       "      <th>company_size</th>\n",
       "    </tr>\n",
       "  </thead>\n",
       "  <tbody>\n",
       "    <tr>\n",
       "      <th>28</th>\n",
       "      <td>2020</td>\n",
       "      <td>EN</td>\n",
       "      <td>CT</td>\n",
       "      <td>Business Data Analyst</td>\n",
       "      <td>100000</td>\n",
       "      <td>USD</td>\n",
       "      <td>100000</td>\n",
       "      <td>US</td>\n",
       "      <td>remote</td>\n",
       "      <td>US</td>\n",
       "      <td>L</td>\n",
       "    </tr>\n",
       "    <tr>\n",
       "      <th>78</th>\n",
       "      <td>2021</td>\n",
       "      <td>MI</td>\n",
       "      <td>CT</td>\n",
       "      <td>ML Engineer</td>\n",
       "      <td>270000</td>\n",
       "      <td>USD</td>\n",
       "      <td>270000</td>\n",
       "      <td>US</td>\n",
       "      <td>remote</td>\n",
       "      <td>US</td>\n",
       "      <td>L</td>\n",
       "    </tr>\n",
       "    <tr>\n",
       "      <th>225</th>\n",
       "      <td>2021</td>\n",
       "      <td>EX</td>\n",
       "      <td>CT</td>\n",
       "      <td>Principal Data Scientist</td>\n",
       "      <td>416000</td>\n",
       "      <td>USD</td>\n",
       "      <td>416000</td>\n",
       "      <td>US</td>\n",
       "      <td>remote</td>\n",
       "      <td>US</td>\n",
       "      <td>S</td>\n",
       "    </tr>\n",
       "    <tr>\n",
       "      <th>283</th>\n",
       "      <td>2021</td>\n",
       "      <td>SE</td>\n",
       "      <td>CT</td>\n",
       "      <td>Staff Data Scientist</td>\n",
       "      <td>105000</td>\n",
       "      <td>USD</td>\n",
       "      <td>105000</td>\n",
       "      <td>US</td>\n",
       "      <td>remote</td>\n",
       "      <td>US</td>\n",
       "      <td>M</td>\n",
       "    </tr>\n",
       "    <tr>\n",
       "      <th>489</th>\n",
       "      <td>2022</td>\n",
       "      <td>EN</td>\n",
       "      <td>CT</td>\n",
       "      <td>Applied Machine Learning Scientist</td>\n",
       "      <td>29000</td>\n",
       "      <td>EUR</td>\n",
       "      <td>31875</td>\n",
       "      <td>TN</td>\n",
       "      <td>remote</td>\n",
       "      <td>CZ</td>\n",
       "      <td>M</td>\n",
       "    </tr>\n",
       "  </tbody>\n",
       "</table>\n",
       "</div>"
      ],
      "text/plain": [
       "    work_year experience_level employment_type  \\\n",
       "28       2020               EN              CT   \n",
       "78       2021               MI              CT   \n",
       "225      2021               EX              CT   \n",
       "283      2021               SE              CT   \n",
       "489      2022               EN              CT   \n",
       "\n",
       "                              job_title  salary salary_currency  \\\n",
       "28                Business Data Analyst  100000             USD   \n",
       "78                          ML Engineer  270000             USD   \n",
       "225            Principal Data Scientist  416000             USD   \n",
       "283                Staff Data Scientist  105000             USD   \n",
       "489  Applied Machine Learning Scientist   29000             EUR   \n",
       "\n",
       "     salary_in_usd employee_residence remote_ratio company_location  \\\n",
       "28          100000                 US       remote               US   \n",
       "78          270000                 US       remote               US   \n",
       "225         416000                 US       remote               US   \n",
       "283         105000                 US       remote               US   \n",
       "489          31875                 TN       remote               CZ   \n",
       "\n",
       "    company_size  \n",
       "28             L  \n",
       "78             L  \n",
       "225            S  \n",
       "283            M  \n",
       "489            M  "
      ]
     },
     "execution_count": 169,
     "metadata": {},
     "output_type": "execute_result"
    }
   ],
   "source": [
    "salaries.query('employment_type == \"CT\"')"
   ]
  },
  {
   "cell_type": "code",
   "execution_count": 170,
   "id": "ddca059a",
   "metadata": {},
   "outputs": [
    {
     "data": {
      "text/html": [
       "<div>\n",
       "<style scoped>\n",
       "    .dataframe tbody tr th:only-of-type {\n",
       "        vertical-align: middle;\n",
       "    }\n",
       "\n",
       "    .dataframe tbody tr th {\n",
       "        vertical-align: top;\n",
       "    }\n",
       "\n",
       "    .dataframe thead th {\n",
       "        text-align: right;\n",
       "    }\n",
       "</style>\n",
       "<table border=\"1\" class=\"dataframe\">\n",
       "  <thead>\n",
       "    <tr style=\"text-align: right;\">\n",
       "      <th></th>\n",
       "      <th>work_year</th>\n",
       "      <th>experience_level</th>\n",
       "      <th>employment_type</th>\n",
       "      <th>job_title</th>\n",
       "      <th>salary</th>\n",
       "      <th>salary_currency</th>\n",
       "      <th>salary_in_usd</th>\n",
       "      <th>employee_residence</th>\n",
       "      <th>remote_ratio</th>\n",
       "      <th>company_location</th>\n",
       "      <th>company_size</th>\n",
       "    </tr>\n",
       "  </thead>\n",
       "  <tbody>\n",
       "    <tr>\n",
       "      <th>54</th>\n",
       "      <td>2020</td>\n",
       "      <td>SE</td>\n",
       "      <td>FL</td>\n",
       "      <td>Computer Vision Engineer</td>\n",
       "      <td>60000</td>\n",
       "      <td>USD</td>\n",
       "      <td>60000</td>\n",
       "      <td>RU</td>\n",
       "      <td>remote</td>\n",
       "      <td>US</td>\n",
       "      <td>S</td>\n",
       "    </tr>\n",
       "    <tr>\n",
       "      <th>184</th>\n",
       "      <td>2021</td>\n",
       "      <td>MI</td>\n",
       "      <td>FL</td>\n",
       "      <td>Machine Learning Scientist</td>\n",
       "      <td>12000</td>\n",
       "      <td>USD</td>\n",
       "      <td>12000</td>\n",
       "      <td>PK</td>\n",
       "      <td>hybrid</td>\n",
       "      <td>PK</td>\n",
       "      <td>M</td>\n",
       "    </tr>\n",
       "    <tr>\n",
       "      <th>208</th>\n",
       "      <td>2021</td>\n",
       "      <td>MI</td>\n",
       "      <td>FL</td>\n",
       "      <td>Data Engineer</td>\n",
       "      <td>20000</td>\n",
       "      <td>USD</td>\n",
       "      <td>20000</td>\n",
       "      <td>IT</td>\n",
       "      <td>on-site</td>\n",
       "      <td>US</td>\n",
       "      <td>L</td>\n",
       "    </tr>\n",
       "    <tr>\n",
       "      <th>488</th>\n",
       "      <td>2022</td>\n",
       "      <td>MI</td>\n",
       "      <td>FL</td>\n",
       "      <td>Data Scientist</td>\n",
       "      <td>100000</td>\n",
       "      <td>USD</td>\n",
       "      <td>100000</td>\n",
       "      <td>CA</td>\n",
       "      <td>remote</td>\n",
       "      <td>US</td>\n",
       "      <td>M</td>\n",
       "    </tr>\n",
       "  </tbody>\n",
       "</table>\n",
       "</div>"
      ],
      "text/plain": [
       "    work_year experience_level employment_type                   job_title  \\\n",
       "54       2020               SE              FL    Computer Vision Engineer   \n",
       "184      2021               MI              FL  Machine Learning Scientist   \n",
       "208      2021               MI              FL               Data Engineer   \n",
       "488      2022               MI              FL              Data Scientist   \n",
       "\n",
       "     salary salary_currency  salary_in_usd employee_residence remote_ratio  \\\n",
       "54    60000             USD          60000                 RU       remote   \n",
       "184   12000             USD          12000                 PK       hybrid   \n",
       "208   20000             USD          20000                 IT      on-site   \n",
       "488  100000             USD         100000                 CA       remote   \n",
       "\n",
       "    company_location company_size  \n",
       "54                US            S  \n",
       "184               PK            M  \n",
       "208               US            L  \n",
       "488               US            M  "
      ]
     },
     "execution_count": 170,
     "metadata": {},
     "output_type": "execute_result"
    }
   ],
   "source": [
    "salaries.query('employment_type == \"FL\"')"
   ]
  },
  {
   "cell_type": "code",
   "execution_count": 172,
   "id": "a2c583ca",
   "metadata": {},
   "outputs": [
    {
     "data": {
      "text/html": [
       "<div>\n",
       "<style scoped>\n",
       "    .dataframe tbody tr th:only-of-type {\n",
       "        vertical-align: middle;\n",
       "    }\n",
       "\n",
       "    .dataframe tbody tr th {\n",
       "        vertical-align: top;\n",
       "    }\n",
       "\n",
       "    .dataframe thead th {\n",
       "        text-align: right;\n",
       "    }\n",
       "</style>\n",
       "<table border=\"1\" class=\"dataframe\">\n",
       "  <thead>\n",
       "    <tr style=\"text-align: right;\">\n",
       "      <th></th>\n",
       "      <th>work_year</th>\n",
       "      <th>experience_level</th>\n",
       "      <th>employment_type</th>\n",
       "      <th>job_title</th>\n",
       "      <th>salary</th>\n",
       "      <th>salary_currency</th>\n",
       "      <th>salary_in_usd</th>\n",
       "      <th>employee_residence</th>\n",
       "      <th>remote_ratio</th>\n",
       "      <th>company_location</th>\n",
       "      <th>company_size</th>\n",
       "    </tr>\n",
       "  </thead>\n",
       "  <tbody>\n",
       "    <tr>\n",
       "      <th>487</th>\n",
       "      <td>2022</td>\n",
       "      <td>EN</td>\n",
       "      <td>PT</td>\n",
       "      <td>Data Scientist</td>\n",
       "      <td>100000</td>\n",
       "      <td>USD</td>\n",
       "      <td>100000</td>\n",
       "      <td>DZ</td>\n",
       "      <td>hybrid</td>\n",
       "      <td>DZ</td>\n",
       "      <td>M</td>\n",
       "    </tr>\n",
       "    <tr>\n",
       "      <th>18</th>\n",
       "      <td>2020</td>\n",
       "      <td>EN</td>\n",
       "      <td>FT</td>\n",
       "      <td>Data Science Consultant</td>\n",
       "      <td>423000</td>\n",
       "      <td>INR</td>\n",
       "      <td>5707</td>\n",
       "      <td>IN</td>\n",
       "      <td>hybrid</td>\n",
       "      <td>IN</td>\n",
       "      <td>M</td>\n",
       "    </tr>\n",
       "    <tr>\n",
       "      <th>82</th>\n",
       "      <td>2021</td>\n",
       "      <td>MI</td>\n",
       "      <td>FT</td>\n",
       "      <td>Applied Data Scientist</td>\n",
       "      <td>68000</td>\n",
       "      <td>CAD</td>\n",
       "      <td>54238</td>\n",
       "      <td>GB</td>\n",
       "      <td>hybrid</td>\n",
       "      <td>CA</td>\n",
       "      <td>L</td>\n",
       "    </tr>\n",
       "    <tr>\n",
       "      <th>511</th>\n",
       "      <td>2022</td>\n",
       "      <td>MI</td>\n",
       "      <td>FT</td>\n",
       "      <td>Business Data Analyst</td>\n",
       "      <td>90000</td>\n",
       "      <td>CAD</td>\n",
       "      <td>70912</td>\n",
       "      <td>CA</td>\n",
       "      <td>hybrid</td>\n",
       "      <td>CA</td>\n",
       "      <td>L</td>\n",
       "    </tr>\n",
       "    <tr>\n",
       "      <th>52</th>\n",
       "      <td>2020</td>\n",
       "      <td>EN</td>\n",
       "      <td>FT</td>\n",
       "      <td>AI Scientist</td>\n",
       "      <td>300000</td>\n",
       "      <td>DKK</td>\n",
       "      <td>45896</td>\n",
       "      <td>DK</td>\n",
       "      <td>hybrid</td>\n",
       "      <td>DK</td>\n",
       "      <td>S</td>\n",
       "    </tr>\n",
       "    <tr>\n",
       "      <th>255</th>\n",
       "      <td>2021</td>\n",
       "      <td>SE</td>\n",
       "      <td>FT</td>\n",
       "      <td>Big Data Architect</td>\n",
       "      <td>125000</td>\n",
       "      <td>CAD</td>\n",
       "      <td>99703</td>\n",
       "      <td>CA</td>\n",
       "      <td>hybrid</td>\n",
       "      <td>CA</td>\n",
       "      <td>M</td>\n",
       "    </tr>\n",
       "    <tr>\n",
       "      <th>248</th>\n",
       "      <td>2021</td>\n",
       "      <td>SE</td>\n",
       "      <td>FT</td>\n",
       "      <td>Data Engineer</td>\n",
       "      <td>70000</td>\n",
       "      <td>GBP</td>\n",
       "      <td>96282</td>\n",
       "      <td>GB</td>\n",
       "      <td>hybrid</td>\n",
       "      <td>GB</td>\n",
       "      <td>L</td>\n",
       "    </tr>\n",
       "    <tr>\n",
       "      <th>62</th>\n",
       "      <td>2020</td>\n",
       "      <td>EN</td>\n",
       "      <td>PT</td>\n",
       "      <td>Data Scientist</td>\n",
       "      <td>19000</td>\n",
       "      <td>EUR</td>\n",
       "      <td>21669</td>\n",
       "      <td>IT</td>\n",
       "      <td>hybrid</td>\n",
       "      <td>IT</td>\n",
       "      <td>S</td>\n",
       "    </tr>\n",
       "    <tr>\n",
       "      <th>75</th>\n",
       "      <td>2021</td>\n",
       "      <td>SE</td>\n",
       "      <td>FT</td>\n",
       "      <td>Data Scientist</td>\n",
       "      <td>45000</td>\n",
       "      <td>EUR</td>\n",
       "      <td>53192</td>\n",
       "      <td>FR</td>\n",
       "      <td>hybrid</td>\n",
       "      <td>FR</td>\n",
       "      <td>L</td>\n",
       "    </tr>\n",
       "    <tr>\n",
       "      <th>455</th>\n",
       "      <td>2022</td>\n",
       "      <td>MI</td>\n",
       "      <td>FT</td>\n",
       "      <td>NLP Engineer</td>\n",
       "      <td>240000</td>\n",
       "      <td>CNY</td>\n",
       "      <td>37236</td>\n",
       "      <td>US</td>\n",
       "      <td>hybrid</td>\n",
       "      <td>US</td>\n",
       "      <td>L</td>\n",
       "    </tr>\n",
       "    <tr>\n",
       "      <th>495</th>\n",
       "      <td>2022</td>\n",
       "      <td>MI</td>\n",
       "      <td>FT</td>\n",
       "      <td>Machine Learning Scientist</td>\n",
       "      <td>153000</td>\n",
       "      <td>USD</td>\n",
       "      <td>153000</td>\n",
       "      <td>US</td>\n",
       "      <td>hybrid</td>\n",
       "      <td>US</td>\n",
       "      <td>M</td>\n",
       "    </tr>\n",
       "    <tr>\n",
       "      <th>239</th>\n",
       "      <td>2021</td>\n",
       "      <td>EN</td>\n",
       "      <td>FT</td>\n",
       "      <td>Data Engineer</td>\n",
       "      <td>1600000</td>\n",
       "      <td>INR</td>\n",
       "      <td>21637</td>\n",
       "      <td>IN</td>\n",
       "      <td>hybrid</td>\n",
       "      <td>IN</td>\n",
       "      <td>M</td>\n",
       "    </tr>\n",
       "    <tr>\n",
       "      <th>217</th>\n",
       "      <td>2021</td>\n",
       "      <td>MI</td>\n",
       "      <td>FT</td>\n",
       "      <td>Data Scientist</td>\n",
       "      <td>76760</td>\n",
       "      <td>EUR</td>\n",
       "      <td>90734</td>\n",
       "      <td>DE</td>\n",
       "      <td>hybrid</td>\n",
       "      <td>DE</td>\n",
       "      <td>L</td>\n",
       "    </tr>\n",
       "    <tr>\n",
       "      <th>288</th>\n",
       "      <td>2021</td>\n",
       "      <td>MI</td>\n",
       "      <td>FT</td>\n",
       "      <td>Machine Learning Engineer</td>\n",
       "      <td>43200</td>\n",
       "      <td>EUR</td>\n",
       "      <td>51064</td>\n",
       "      <td>IT</td>\n",
       "      <td>hybrid</td>\n",
       "      <td>IT</td>\n",
       "      <td>L</td>\n",
       "    </tr>\n",
       "    <tr>\n",
       "      <th>95</th>\n",
       "      <td>2021</td>\n",
       "      <td>MI</td>\n",
       "      <td>FT</td>\n",
       "      <td>Cloud Data Engineer</td>\n",
       "      <td>120000</td>\n",
       "      <td>SGD</td>\n",
       "      <td>89294</td>\n",
       "      <td>SG</td>\n",
       "      <td>hybrid</td>\n",
       "      <td>SG</td>\n",
       "      <td>L</td>\n",
       "    </tr>\n",
       "    <tr>\n",
       "      <th>505</th>\n",
       "      <td>2022</td>\n",
       "      <td>EN</td>\n",
       "      <td>FT</td>\n",
       "      <td>Data Scientist</td>\n",
       "      <td>120000</td>\n",
       "      <td>AUD</td>\n",
       "      <td>86703</td>\n",
       "      <td>AU</td>\n",
       "      <td>hybrid</td>\n",
       "      <td>AU</td>\n",
       "      <td>M</td>\n",
       "    </tr>\n",
       "    <tr>\n",
       "      <th>184</th>\n",
       "      <td>2021</td>\n",
       "      <td>MI</td>\n",
       "      <td>FL</td>\n",
       "      <td>Machine Learning Scientist</td>\n",
       "      <td>12000</td>\n",
       "      <td>USD</td>\n",
       "      <td>12000</td>\n",
       "      <td>PK</td>\n",
       "      <td>hybrid</td>\n",
       "      <td>PK</td>\n",
       "      <td>M</td>\n",
       "    </tr>\n",
       "    <tr>\n",
       "      <th>44</th>\n",
       "      <td>2020</td>\n",
       "      <td>MI</td>\n",
       "      <td>FT</td>\n",
       "      <td>Data Engineer</td>\n",
       "      <td>88000</td>\n",
       "      <td>GBP</td>\n",
       "      <td>112872</td>\n",
       "      <td>GB</td>\n",
       "      <td>hybrid</td>\n",
       "      <td>GB</td>\n",
       "      <td>L</td>\n",
       "    </tr>\n",
       "    <tr>\n",
       "      <th>35</th>\n",
       "      <td>2020</td>\n",
       "      <td>MI</td>\n",
       "      <td>FT</td>\n",
       "      <td>Data Engineer</td>\n",
       "      <td>65000</td>\n",
       "      <td>EUR</td>\n",
       "      <td>74130</td>\n",
       "      <td>AT</td>\n",
       "      <td>hybrid</td>\n",
       "      <td>AT</td>\n",
       "      <td>L</td>\n",
       "    </tr>\n",
       "    <tr>\n",
       "      <th>77</th>\n",
       "      <td>2021</td>\n",
       "      <td>MI</td>\n",
       "      <td>PT</td>\n",
       "      <td>3D Computer Vision Researcher</td>\n",
       "      <td>400000</td>\n",
       "      <td>INR</td>\n",
       "      <td>5409</td>\n",
       "      <td>IN</td>\n",
       "      <td>hybrid</td>\n",
       "      <td>IN</td>\n",
       "      <td>M</td>\n",
       "    </tr>\n",
       "  </tbody>\n",
       "</table>\n",
       "</div>"
      ],
      "text/plain": [
       "    work_year experience_level employment_type                      job_title  \\\n",
       "487      2022               EN              PT                 Data Scientist   \n",
       "18       2020               EN              FT        Data Science Consultant   \n",
       "82       2021               MI              FT         Applied Data Scientist   \n",
       "511      2022               MI              FT          Business Data Analyst   \n",
       "52       2020               EN              FT                   AI Scientist   \n",
       "255      2021               SE              FT             Big Data Architect   \n",
       "248      2021               SE              FT                  Data Engineer   \n",
       "62       2020               EN              PT                 Data Scientist   \n",
       "75       2021               SE              FT                 Data Scientist   \n",
       "455      2022               MI              FT                   NLP Engineer   \n",
       "495      2022               MI              FT     Machine Learning Scientist   \n",
       "239      2021               EN              FT                  Data Engineer   \n",
       "217      2021               MI              FT                 Data Scientist   \n",
       "288      2021               MI              FT      Machine Learning Engineer   \n",
       "95       2021               MI              FT            Cloud Data Engineer   \n",
       "505      2022               EN              FT                 Data Scientist   \n",
       "184      2021               MI              FL     Machine Learning Scientist   \n",
       "44       2020               MI              FT                  Data Engineer   \n",
       "35       2020               MI              FT                  Data Engineer   \n",
       "77       2021               MI              PT  3D Computer Vision Researcher   \n",
       "\n",
       "      salary salary_currency  salary_in_usd employee_residence remote_ratio  \\\n",
       "487   100000             USD         100000                 DZ       hybrid   \n",
       "18    423000             INR           5707                 IN       hybrid   \n",
       "82     68000             CAD          54238                 GB       hybrid   \n",
       "511    90000             CAD          70912                 CA       hybrid   \n",
       "52    300000             DKK          45896                 DK       hybrid   \n",
       "255   125000             CAD          99703                 CA       hybrid   \n",
       "248    70000             GBP          96282                 GB       hybrid   \n",
       "62     19000             EUR          21669                 IT       hybrid   \n",
       "75     45000             EUR          53192                 FR       hybrid   \n",
       "455   240000             CNY          37236                 US       hybrid   \n",
       "495   153000             USD         153000                 US       hybrid   \n",
       "239  1600000             INR          21637                 IN       hybrid   \n",
       "217    76760             EUR          90734                 DE       hybrid   \n",
       "288    43200             EUR          51064                 IT       hybrid   \n",
       "95    120000             SGD          89294                 SG       hybrid   \n",
       "505   120000             AUD          86703                 AU       hybrid   \n",
       "184    12000             USD          12000                 PK       hybrid   \n",
       "44     88000             GBP         112872                 GB       hybrid   \n",
       "35     65000             EUR          74130                 AT       hybrid   \n",
       "77    400000             INR           5409                 IN       hybrid   \n",
       "\n",
       "    company_location company_size  \n",
       "487               DZ            M  \n",
       "18                IN            M  \n",
       "82                CA            L  \n",
       "511               CA            L  \n",
       "52                DK            S  \n",
       "255               CA            M  \n",
       "248               GB            L  \n",
       "62                IT            S  \n",
       "75                FR            L  \n",
       "455               US            L  \n",
       "495               US            M  \n",
       "239               IN            M  \n",
       "217               DE            L  \n",
       "288               IT            L  \n",
       "95                SG            L  \n",
       "505               AU            M  \n",
       "184               PK            M  \n",
       "44                GB            L  \n",
       "35                AT            L  \n",
       "77                IN            M  "
      ]
     },
     "execution_count": 172,
     "metadata": {},
     "output_type": "execute_result"
    }
   ],
   "source": [
    "salaries.query('remote_ratio == \"hybrid\"').sample(20)"
   ]
  }
 ],
 "metadata": {
  "kernelspec": {
   "display_name": "Python 3 (ipykernel)",
   "language": "python",
   "name": "python3"
  },
  "language_info": {
   "codemirror_mode": {
    "name": "ipython",
    "version": 3
   },
   "file_extension": ".py",
   "mimetype": "text/x-python",
   "name": "python",
   "nbconvert_exporter": "python",
   "pygments_lexer": "ipython3",
   "version": "3.9.12"
  }
 },
 "nbformat": 4,
 "nbformat_minor": 5
}
